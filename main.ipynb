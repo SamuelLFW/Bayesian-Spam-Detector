{
 "cells": [
  {
   "cell_type": "markdown",
   "metadata": {},
   "source": [
    "## Install Packages"
   ]
  },
  {
   "cell_type": "code",
   "execution_count": 21,
   "metadata": {},
   "outputs": [
    {
     "name": "stdout",
     "output_type": "stream",
     "text": [
      "Requirement already satisfied: scikit-learn in c:\\users\\user\\appdata\\local\\programs\\python\\python311\\lib\\site-packages (1.6.1)\n",
      "Requirement already satisfied: pandas in c:\\users\\user\\appdata\\local\\programs\\python\\python311\\lib\\site-packages (2.0.3)\n",
      "Requirement already satisfied: numpy in c:\\users\\user\\appdata\\local\\programs\\python\\python311\\lib\\site-packages (1.25.2)\n",
      "Requirement already satisfied: matplotlib in c:\\users\\user\\appdata\\local\\programs\\python\\python311\\lib\\site-packages (3.7.2)\n",
      "Requirement already satisfied: seaborn in c:\\users\\user\\appdata\\local\\programs\\python\\python311\\lib\\site-packages (0.12.2)\n",
      "Requirement already satisfied: datasets in c:\\users\\user\\appdata\\local\\programs\\python\\python311\\lib\\site-packages (2.14.5)\n",
      "Requirement already satisfied: huggingface_hub in c:\\users\\user\\appdata\\local\\programs\\python\\python311\\lib\\site-packages (0.28.1)\n",
      "Requirement already satisfied: scipy>=1.6.0 in c:\\users\\user\\appdata\\local\\programs\\python\\python311\\lib\\site-packages (from scikit-learn) (1.14.1)\n",
      "Requirement already satisfied: joblib>=1.2.0 in c:\\users\\user\\appdata\\local\\programs\\python\\python311\\lib\\site-packages (from scikit-learn) (1.4.2)\n",
      "Requirement already satisfied: threadpoolctl>=3.1.0 in c:\\users\\user\\appdata\\local\\programs\\python\\python311\\lib\\site-packages (from scikit-learn) (3.5.0)\n",
      "Requirement already satisfied: python-dateutil>=2.8.2 in c:\\users\\user\\appdata\\local\\programs\\python\\python311\\lib\\site-packages (from pandas) (2.8.2)\n",
      "Requirement already satisfied: pytz>=2020.1 in c:\\users\\user\\appdata\\local\\programs\\python\\python311\\lib\\site-packages (from pandas) (2025.1)\n",
      "Requirement already satisfied: tzdata>=2022.1 in c:\\users\\user\\appdata\\local\\programs\\python\\python311\\lib\\site-packages (from pandas) (2025.1)\n",
      "Requirement already satisfied: contourpy>=1.0.1 in c:\\users\\user\\appdata\\local\\programs\\python\\python311\\lib\\site-packages (from matplotlib) (1.3.1)\n",
      "Requirement already satisfied: cycler>=0.10 in c:\\users\\user\\appdata\\local\\programs\\python\\python311\\lib\\site-packages (from matplotlib) (0.12.1)\n",
      "Requirement already satisfied: fonttools>=4.22.0 in c:\\users\\user\\appdata\\local\\programs\\python\\python311\\lib\\site-packages (from matplotlib) (4.56.0)\n",
      "Requirement already satisfied: kiwisolver>=1.0.1 in c:\\users\\user\\appdata\\local\\programs\\python\\python311\\lib\\site-packages (from matplotlib) (1.4.8)\n",
      "Requirement already satisfied: packaging>=20.0 in c:\\users\\user\\appdata\\local\\programs\\python\\python311\\lib\\site-packages (from matplotlib) (23.2)\n",
      "Requirement already satisfied: pillow>=6.2.0 in c:\\users\\user\\appdata\\local\\programs\\python\\python311\\lib\\site-packages (from matplotlib) (10.4.0)\n",
      "Requirement already satisfied: pyparsing<3.1,>=2.3.1 in c:\\users\\user\\appdata\\local\\programs\\python\\python311\\lib\\site-packages (from matplotlib) (3.0.9)\n",
      "Requirement already satisfied: pyarrow>=8.0.0 in c:\\users\\user\\appdata\\local\\programs\\python\\python311\\lib\\site-packages (from datasets) (19.0.0)\n",
      "Requirement already satisfied: dill<0.3.8,>=0.3.0 in c:\\users\\user\\appdata\\local\\programs\\python\\python311\\lib\\site-packages (from datasets) (0.3.7)\n",
      "Requirement already satisfied: requests>=2.19.0 in c:\\users\\user\\appdata\\local\\programs\\python\\python311\\lib\\site-packages (from datasets) (2.32.3)\n",
      "Requirement already satisfied: tqdm>=4.62.1 in c:\\users\\user\\appdata\\local\\programs\\python\\python311\\lib\\site-packages (from datasets) (4.67.1)\n",
      "Requirement already satisfied: xxhash in c:\\users\\user\\appdata\\local\\programs\\python\\python311\\lib\\site-packages (from datasets) (3.5.0)\n",
      "Requirement already satisfied: multiprocess in c:\\users\\user\\appdata\\local\\programs\\python\\python311\\lib\\site-packages (from datasets) (0.70.15)\n",
      "Requirement already satisfied: fsspec<2023.9.0,>=2023.1.0 in c:\\users\\user\\appdata\\local\\programs\\python\\python311\\lib\\site-packages (from fsspec[http]<2023.9.0,>=2023.1.0->datasets) (2023.6.0)\n",
      "Requirement already satisfied: aiohttp in c:\\users\\user\\appdata\\local\\programs\\python\\python311\\lib\\site-packages (from datasets) (3.11.12)\n",
      "Requirement already satisfied: pyyaml>=5.1 in c:\\users\\user\\appdata\\local\\programs\\python\\python311\\lib\\site-packages (from datasets) (6.0.2)\n",
      "Requirement already satisfied: filelock in c:\\users\\user\\appdata\\local\\programs\\python\\python311\\lib\\site-packages (from huggingface_hub) (3.10.0)\n",
      "Requirement already satisfied: typing-extensions>=3.7.4.3 in c:\\users\\user\\appdata\\local\\programs\\python\\python311\\lib\\site-packages (from huggingface_hub) (4.13.2)\n",
      "Requirement already satisfied: aiohappyeyeballs>=2.3.0 in c:\\users\\user\\appdata\\local\\programs\\python\\python311\\lib\\site-packages (from aiohttp->datasets) (2.4.6)\n",
      "Requirement already satisfied: aiosignal>=1.1.2 in c:\\users\\user\\appdata\\local\\programs\\python\\python311\\lib\\site-packages (from aiohttp->datasets) (1.3.2)\n",
      "Requirement already satisfied: attrs>=17.3.0 in c:\\users\\user\\appdata\\local\\programs\\python\\python311\\lib\\site-packages (from aiohttp->datasets) (25.1.0)\n",
      "Requirement already satisfied: frozenlist>=1.1.1 in c:\\users\\user\\appdata\\local\\programs\\python\\python311\\lib\\site-packages (from aiohttp->datasets) (1.5.0)\n",
      "Requirement already satisfied: multidict<7.0,>=4.5 in c:\\users\\user\\appdata\\local\\programs\\python\\python311\\lib\\site-packages (from aiohttp->datasets) (6.1.0)\n",
      "Requirement already satisfied: propcache>=0.2.0 in c:\\users\\user\\appdata\\local\\programs\\python\\python311\\lib\\site-packages (from aiohttp->datasets) (0.2.1)\n",
      "Requirement already satisfied: yarl<2.0,>=1.17.0 in c:\\users\\user\\appdata\\local\\programs\\python\\python311\\lib\\site-packages (from aiohttp->datasets) (1.18.3)\n",
      "Requirement already satisfied: six>=1.5 in c:\\users\\user\\appdata\\local\\programs\\python\\python311\\lib\\site-packages (from python-dateutil>=2.8.2->pandas) (1.17.0)\n",
      "Requirement already satisfied: charset-normalizer<4,>=2 in c:\\users\\user\\appdata\\local\\programs\\python\\python311\\lib\\site-packages (from requests>=2.19.0->datasets) (3.4.1)\n",
      "Requirement already satisfied: idna<4,>=2.5 in c:\\users\\user\\appdata\\local\\programs\\python\\python311\\lib\\site-packages (from requests>=2.19.0->datasets) (3.10)\n",
      "Requirement already satisfied: urllib3<3,>=1.21.1 in c:\\users\\user\\appdata\\local\\programs\\python\\python311\\lib\\site-packages (from requests>=2.19.0->datasets) (2.3.0)\n",
      "Requirement already satisfied: certifi>=2017.4.17 in c:\\users\\user\\appdata\\local\\programs\\python\\python311\\lib\\site-packages (from requests>=2.19.0->datasets) (2025.1.31)\n",
      "Requirement already satisfied: colorama in c:\\users\\user\\appdata\\local\\programs\\python\\python311\\lib\\site-packages (from tqdm>=4.62.1->datasets) (0.4.6)\n"
     ]
    },
    {
     "name": "stderr",
     "output_type": "stream",
     "text": [
      "\n",
      "[notice] A new release of pip is available: 24.2 -> 25.1.1\n",
      "[notice] To update, run: python.exe -m pip install --upgrade pip\n"
     ]
    }
   ],
   "source": [
    "!pip install scikit-learn pandas numpy matplotlib seaborn datasets huggingface_hub"
   ]
  },
  {
   "cell_type": "markdown",
   "metadata": {},
   "source": [
    "## import the packages"
   ]
  },
  {
   "cell_type": "code",
   "execution_count": 1,
   "metadata": {},
   "outputs": [],
   "source": [
    "import pandas as pd\n",
    "import numpy as np\n",
    "from sklearn.model_selection import train_test_split\n",
    "from sklearn.feature_extraction.text import CountVectorizer, TfidfVectorizer\n",
    "from sklearn.naive_bayes import MultinomialNB\n",
    "from sklearn.metrics import classification_report, confusion_matrix, accuracy_score\n",
    "import matplotlib.pyplot as plt\n",
    "import seaborn as sns\n",
    "from datasets import load_dataset\n",
    "import re\n",
    "import string"
   ]
  },
  {
   "cell_type": "markdown",
   "metadata": {},
   "source": [
    "## SpamAssasin Dataset"
   ]
  },
  {
   "cell_type": "code",
   "execution_count": 2,
   "metadata": {},
   "outputs": [
    {
     "data": {
      "application/vnd.jupyter.widget-view+json": {
       "model_id": "3621238d886a4154bffb4ed94b7032f1",
       "version_major": 2,
       "version_minor": 0
      },
      "text/plain": [
       "README.md:   0%|          | 0.00/2.26k [00:00<?, ?B/s]"
      ]
     },
     "metadata": {},
     "output_type": "display_data"
    },
    {
     "data": {
      "application/vnd.jupyter.widget-view+json": {
       "model_id": "8b3e8847907f41c390e1a8908d5b4537",
       "version_major": 2,
       "version_minor": 0
      },
      "text/plain": [
       "spamassassin.py:   0%|          | 0.00/6.58k [00:00<?, ?B/s]"
      ]
     },
     "metadata": {},
     "output_type": "display_data"
    },
    {
     "data": {
      "application/vnd.jupyter.widget-view+json": {
       "model_id": "aaec4db23f0846dfa33cf13af23d3ca2",
       "version_major": 2,
       "version_minor": 0
      },
      "text/plain": [
       "dep.py:   0%|          | 0.00/553k [00:00<?, ?B/s]"
      ]
     },
     "metadata": {},
     "output_type": "display_data"
    },
    {
     "name": "stdin",
     "output_type": "stream",
     "text": [
      "The repository for talby/spamassassin contains custom code which must be executed to correctly load the dataset. You can inspect the repository content at https://hf.co/datasets/talby/spamassassin.\n",
      "You can avoid this prompt in future by passing the argument `trust_remote_code=True`.\n",
      "\n",
      "Do you wish to run the custom code? [y/N]  y\n"
     ]
    },
    {
     "data": {
      "application/vnd.jupyter.widget-view+json": {
       "model_id": "6c2e58147b424b22a87178d6a6e01a67",
       "version_major": 2,
       "version_minor": 0
      },
      "text/plain": [
       "Downloading data:   0%|          | 0.00/1.68M [00:00<?, ?B/s]"
      ]
     },
     "metadata": {},
     "output_type": "display_data"
    },
    {
     "data": {
      "application/vnd.jupyter.widget-view+json": {
       "model_id": "4b1e1c86f85a44eeb30b9b84a2d31646",
       "version_major": 2,
       "version_minor": 0
      },
      "text/plain": [
       "Downloading data:   0%|          | 0.00/1.02M [00:00<?, ?B/s]"
      ]
     },
     "metadata": {},
     "output_type": "display_data"
    },
    {
     "data": {
      "application/vnd.jupyter.widget-view+json": {
       "model_id": "6fd1372a35a54083b4e6c26902ae949e",
       "version_major": 2,
       "version_minor": 0
      },
      "text/plain": [
       "Downloading data:   0%|          | 0.00/1.19M [00:00<?, ?B/s]"
      ]
     },
     "metadata": {},
     "output_type": "display_data"
    },
    {
     "data": {
      "application/vnd.jupyter.widget-view+json": {
       "model_id": "ceae5b4e2e724e51a26b3f258740bd6c",
       "version_major": 2,
       "version_minor": 0
      },
      "text/plain": [
       "Downloading data:   0%|          | 0.00/1.61M [00:00<?, ?B/s]"
      ]
     },
     "metadata": {},
     "output_type": "display_data"
    },
    {
     "data": {
      "application/vnd.jupyter.widget-view+json": {
       "model_id": "7aba7ae5f88e4f139d17e5c118c7d639",
       "version_major": 2,
       "version_minor": 0
      },
      "text/plain": [
       "Downloading data:   0%|          | 0.00/1.08M [00:00<?, ?B/s]"
      ]
     },
     "metadata": {},
     "output_type": "display_data"
    },
    {
     "data": {
      "application/vnd.jupyter.widget-view+json": {
       "model_id": "a85b7b337a8f47dc8127b8707d390f8f",
       "version_major": 2,
       "version_minor": 0
      },
      "text/plain": [
       "Downloading data:   0%|          | 0.00/1.03M [00:00<?, ?B/s]"
      ]
     },
     "metadata": {},
     "output_type": "display_data"
    },
    {
     "data": {
      "application/vnd.jupyter.widget-view+json": {
       "model_id": "dc4a465095654c94aefb27ffcd9aad37",
       "version_major": 2,
       "version_minor": 0
      },
      "text/plain": [
       "Downloading data:   0%|          | 0.00/1.18M [00:00<?, ?B/s]"
      ]
     },
     "metadata": {},
     "output_type": "display_data"
    },
    {
     "data": {
      "application/vnd.jupyter.widget-view+json": {
       "model_id": "5ab9b7663ed44a50a41d7794f211ee84",
       "version_major": 2,
       "version_minor": 0
      },
      "text/plain": [
       "Downloading data:   0%|          | 0.00/2.06M [00:00<?, ?B/s]"
      ]
     },
     "metadata": {},
     "output_type": "display_data"
    },
    {
     "data": {
      "application/vnd.jupyter.widget-view+json": {
       "model_id": "5eae18c63e6641a880539f8d2510ac62",
       "version_major": 2,
       "version_minor": 0
      },
      "text/plain": [
       "Downloading data:   0%|          | 0.00/2.06M [00:00<?, ?B/s]"
      ]
     },
     "metadata": {},
     "output_type": "display_data"
    },
    {
     "data": {
      "application/vnd.jupyter.widget-view+json": {
       "model_id": "e52bb35bc7604135844124169dfa70e0",
       "version_major": 2,
       "version_minor": 0
      },
      "text/plain": [
       "Generating train split: 0 examples [00:00, ? examples/s]"
      ]
     },
     "metadata": {},
     "output_type": "display_data"
    },
    {
     "name": "stdout",
     "output_type": "stream",
     "text": [
      "shape of the dataset: (10749, 3)\n",
      "names columns: ['label', 'group', 'text']\n",
      "distribution of the labels:\n",
      "label\n",
      "1    6954\n",
      "0    3795\n",
      "Name: count, dtype: int64\n"
     ]
    }
   ],
   "source": [
    "dataset = load_dataset(\"talby/spamassassin\")\n",
    "\n",
    "df = pd.DataFrame(dataset['train'])\n",
    "\n",
    "print(\"shape of the dataset:\", df.shape)\n",
    "print(\"names columns:\", df.columns.tolist())\n",
    "print(\"distribution of the labels:\")\n",
    "print(df['label'].value_counts())"
   ]
  },
  {
   "cell_type": "markdown",
   "metadata": {},
   "source": [
    "## Pre-process the data"
   ]
  },
  {
   "cell_type": "code",
   "execution_count": 3,
   "metadata": {},
   "outputs": [],
   "source": [
    "def preprocess_email(text):\n",
    "    \"\"\"Clean and preprocess email text\"\"\"\n",
    "    #lowercase\n",
    "    text = text.lower()\n",
    "    \n",
    "    # no headers\n",
    "    text = re.sub(r'^(from|to|subject|date|reply-to|message-id):.*$', '', text, flags=re.MULTILINE)\n",
    "    \n",
    "    # no html tags\n",
    "    text = re.sub(r'<[^>]+>', '', text)\n",
    "    \n",
    "    # no urls\n",
    "    text = re.sub(r'http[s]?://(?:[a-zA-Z]|[0-9]|[$-_@.&+]|[!*\\\\(\\\\),]|(?:%[0-9a-fA-F][0-9a-fA-F]))+', '', text)\n",
    "    \n",
    "    # no email addresses\n",
    "    text = re.sub(r'\\S+@\\S+', '', text)\n",
    "    \n",
    "    # no spacing\n",
    "    text = re.sub(r'\\s+', ' ', text).strip()\n",
    "    \n",
    "    return text\n",
    "\n",
    "# preprocess the text\n",
    "df['processed_text'] = df['text'].apply(preprocess_email)"
   ]
  },
  {
   "cell_type": "code",
   "execution_count": 4,
   "metadata": {},
   "outputs": [
    {
     "data": {
      "text/html": [
       "<div>\n",
       "<style scoped>\n",
       "    .dataframe tbody tr th:only-of-type {\n",
       "        vertical-align: middle;\n",
       "    }\n",
       "\n",
       "    .dataframe tbody tr th {\n",
       "        vertical-align: top;\n",
       "    }\n",
       "\n",
       "    .dataframe thead th {\n",
       "        text-align: right;\n",
       "    }\n",
       "</style>\n",
       "<table border=\"1\" class=\"dataframe\">\n",
       "  <thead>\n",
       "    <tr style=\"text-align: right;\">\n",
       "      <th></th>\n",
       "      <th>label</th>\n",
       "      <th>group</th>\n",
       "      <th>text</th>\n",
       "      <th>processed_text</th>\n",
       "    </tr>\n",
       "  </thead>\n",
       "  <tbody>\n",
       "    <tr>\n",
       "      <th>0</th>\n",
       "      <td>1</td>\n",
       "      <td>easy_ham</td>\n",
       "      <td>\"\\n&gt; From: fork-admin@xent.com [mailto:fork-ad...</td>\n",
       "      <td>\"\\n&gt; from: on behalf of\\njames\\n&gt; rogers\\n\\n&gt; ...</td>\n",
       "    </tr>\n",
       "    <tr>\n",
       "      <th>1</th>\n",
       "      <td>1</td>\n",
       "      <td>easy_ham</td>\n",
       "      <td>\"Hi,\\n\\nOn Sun, 01 Sep 2002 00:05:03 MDT Reg C...</td>\n",
       "      <td>\"hi,\\n\\non sun, 01 sep 2002 00:05:03 mdt reg c...</td>\n",
       "    </tr>\n",
       "    <tr>\n",
       "      <th>2</th>\n",
       "      <td>1</td>\n",
       "      <td>easy_ham</td>\n",
       "      <td>\"On Fri Sep 13 2002 at 02:03, Robert Elz wrote...</td>\n",
       "      <td>\"on fri sep 13 2002 at 02:03, robert elz wrote...</td>\n",
       "    </tr>\n",
       "    <tr>\n",
       "      <th>3</th>\n",
       "      <td>1</td>\n",
       "      <td>easy_ham</td>\n",
       "      <td>\"On Thu, 2002-08-29 at 01:06, Matthias Saou wr...</td>\n",
       "      <td>\"on thu, 2002-08-29 at 01:06, matthias saou wr...</td>\n",
       "    </tr>\n",
       "    <tr>\n",
       "      <th>4</th>\n",
       "      <td>1</td>\n",
       "      <td>easy_ham</td>\n",
       "      <td>\"Hi, I'm building an rpm for the resin webserv...</td>\n",
       "      <td>\"hi, i'm building an rpm for the resin webserv...</td>\n",
       "    </tr>\n",
       "    <tr>\n",
       "      <th>...</th>\n",
       "      <td>...</td>\n",
       "      <td>...</td>\n",
       "      <td>...</td>\n",
       "      <td>...</td>\n",
       "    </tr>\n",
       "    <tr>\n",
       "      <th>10744</th>\n",
       "      <td>0</td>\n",
       "      <td>spam_2</td>\n",
       "      <td>[\" \\t Preferred Non-Smoker\\n \\t\\n Just what th...</td>\n",
       "      <td>[\" \\t preferred non-smoker\\n \\t\\n just what th...</td>\n",
       "    </tr>\n",
       "    <tr>\n",
       "      <th>10745</th>\n",
       "      <td>0</td>\n",
       "      <td>spam_2</td>\n",
       "      <td>\"ATTN:SIR/MADAN      \\n\\n                     ...</td>\n",
       "      <td>\"attn:sir/madan \\n\\n strictly confidential.\\n\\...</td>\n",
       "    </tr>\n",
       "    <tr>\n",
       "      <th>10746</th>\n",
       "      <td>0</td>\n",
       "      <td>spam_2</td>\n",
       "      <td>\"Dear Subscriber,\\n\\nIf I could show you a way...</td>\n",
       "      <td>\"dear subscriber,\\n\\nif i could show you a way...</td>\n",
       "    </tr>\n",
       "    <tr>\n",
       "      <th>10747</th>\n",
       "      <td>0</td>\n",
       "      <td>spam_2</td>\n",
       "      <td>\"****Mid-Summer Customer Appreciation SALE!***...</td>\n",
       "      <td>\"****mid-summer customer appreciation sale!***...</td>\n",
       "    </tr>\n",
       "    <tr>\n",
       "      <th>10748</th>\n",
       "      <td>0</td>\n",
       "      <td>spam_2</td>\n",
       "      <td>\"NEW PRODUCT ANNOUNCEMENT\\n\\nFrom: OUTSOURCE E...</td>\n",
       "      <td>\"new product announcement\\n\\nfrom: outsource e...</td>\n",
       "    </tr>\n",
       "  </tbody>\n",
       "</table>\n",
       "<p>10749 rows × 4 columns</p>\n",
       "</div>"
      ],
      "text/plain": [
       "       label     group                                               text  \\\n",
       "0          1  easy_ham  \"\\n> From: fork-admin@xent.com [mailto:fork-ad...   \n",
       "1          1  easy_ham  \"Hi,\\n\\nOn Sun, 01 Sep 2002 00:05:03 MDT Reg C...   \n",
       "2          1  easy_ham  \"On Fri Sep 13 2002 at 02:03, Robert Elz wrote...   \n",
       "3          1  easy_ham  \"On Thu, 2002-08-29 at 01:06, Matthias Saou wr...   \n",
       "4          1  easy_ham  \"Hi, I'm building an rpm for the resin webserv...   \n",
       "...      ...       ...                                                ...   \n",
       "10744      0    spam_2  [\" \\t Preferred Non-Smoker\\n \\t\\n Just what th...   \n",
       "10745      0    spam_2  \"ATTN:SIR/MADAN      \\n\\n                     ...   \n",
       "10746      0    spam_2  \"Dear Subscriber,\\n\\nIf I could show you a way...   \n",
       "10747      0    spam_2  \"****Mid-Summer Customer Appreciation SALE!***...   \n",
       "10748      0    spam_2  \"NEW PRODUCT ANNOUNCEMENT\\n\\nFrom: OUTSOURCE E...   \n",
       "\n",
       "                                          processed_text  \n",
       "0      \"\\n> from: on behalf of\\njames\\n> rogers\\n\\n> ...  \n",
       "1      \"hi,\\n\\non sun, 01 sep 2002 00:05:03 mdt reg c...  \n",
       "2      \"on fri sep 13 2002 at 02:03, robert elz wrote...  \n",
       "3      \"on thu, 2002-08-29 at 01:06, matthias saou wr...  \n",
       "4      \"hi, i'm building an rpm for the resin webserv...  \n",
       "...                                                  ...  \n",
       "10744  [\" \\t preferred non-smoker\\n \\t\\n just what th...  \n",
       "10745  \"attn:sir/madan \\n\\n strictly confidential.\\n\\...  \n",
       "10746  \"dear subscriber,\\n\\nif i could show you a way...  \n",
       "10747  \"****mid-summer customer appreciation sale!***...  \n",
       "10748  \"new product announcement\\n\\nfrom: outsource e...  \n",
       "\n",
       "[10749 rows x 4 columns]"
      ]
     },
     "execution_count": 4,
     "metadata": {},
     "output_type": "execute_result"
    }
   ],
   "source": [
    "df"
   ]
  },
  {
   "cell_type": "code",
   "execution_count": 5,
   "metadata": {},
   "outputs": [],
   "source": [
    "# further preprocess the text and remove NaN values\n",
    "if 'group' in df.columns:\n",
    "    def map_to_binary(group_label):\n",
    "        if 'spam' in str(group_label).lower():\n",
    "            return 1\n",
    "        elif 'ham' in str(group_label).lower():\n",
    "            return 0\n",
    "        else:\n",
    "            return None  \n",
    "        \n",
    "    df['binary_label'] = df['group'].apply(map_to_binary)\n",
    "    \n",
    "    if df['binary_label'].isna().sum() > 0:\n",
    "        unmapped = df[df['binary_label'].isna()]['group'].unique()\n",
    "else:\n",
    "    def map_to_binary(label):\n",
    "        if 'spam' in str(label).lower():\n",
    "            return 1\n",
    "        elif 'ham' in str(label).lower():\n",
    "            return 0\n",
    "        else:\n",
    "            return None\n",
    "    \n",
    "    df['binary_label'] = df['label'].apply(map_to_binary)\n",
    "    \n",
    "    if df['binary_label'].isna().sum() > 0:\n",
    "        unmapped = df[df['binary_label'].isna()]['label'].unique()\n",
    "\n",
    "\n",
    "initial_count = len(df)\n",
    "df = df.dropna(subset=['binary_label'])\n",
    "final_count = len(df)\n",
    "df['binary_label'] = df['binary_label'].astype(int)"
   ]
  },
  {
   "cell_type": "markdown",
   "metadata": {},
   "source": [
    "## split dataset to training, testing"
   ]
  },
  {
   "cell_type": "code",
   "execution_count": null,
   "metadata": {},
   "outputs": [],
   "source": []
  },
  {
   "cell_type": "code",
   "execution_count": 6,
   "metadata": {},
   "outputs": [
    {
     "name": "stdout",
     "output_type": "stream",
     "text": [
      "\n",
      "Training set: 8600 samples\n",
      "Validation set: 1074 samples\n",
      "Test set: 1075 samples\n"
     ]
    }
   ],
   "source": [
    "# split the data to X and y\n",
    "X = df['processed_text']\n",
    "y = df['binary_label']\n",
    "\n",
    "#  80% train, 10% validation, 10% test\n",
    "X_temp, X_test, y_temp, y_test = train_test_split(\n",
    "    X, y, test_size=0.1, random_state=42, stratify=y\n",
    ")\n",
    "\n",
    "X_train, X_val, y_train, y_val = train_test_split(\n",
    "    X_temp, y_temp, test_size=0.111, random_state=42, stratify=y_temp  # 0.111 * 0.9 ≈ 0.1\n",
    ")\n",
    "\n",
    "print(f\"\\nTraining set: {len(X_train)} samples\")\n",
    "print(f\"Validation set: {len(X_val)} samples\") \n",
    "print(f\"Test set: {len(X_test)} samples\")"
   ]
  },
  {
   "cell_type": "markdown",
   "metadata": {},
   "source": [
    "## Feature Extraction"
   ]
  },
  {
   "cell_type": "code",
   "execution_count": 7,
   "metadata": {},
   "outputs": [
    {
     "name": "stdout",
     "output_type": "stream",
     "text": [
      "Feature matrix shape: (8600, 5000)\n",
      "Vocabulary size: 5000\n"
     ]
    }
   ],
   "source": [
    "from sklearn.feature_extraction.text import CountVectorizer, TfidfVectorizer\n",
    "\n",
    "vectorizer = CountVectorizer(\n",
    "    max_features=5000,\n",
    "    stop_words='english',\n",
    "    min_df=2, \n",
    "    max_df=0.95,  \n",
    "    ngram_range=(1, 2)  \n",
    ")\n",
    "\n",
    "X_train_vec = vectorizer.fit_transform(X_train)\n",
    "X_val_vec = vectorizer.transform(X_val)\n",
    "X_test_vec = vectorizer.transform(X_test)\n",
    "\n",
    "print(f\"Feature matrix shape: {X_train_vec.shape}\")\n",
    "print(f\"Vocabulary size: {len(vectorizer.get_feature_names_out())}\")"
   ]
  },
  {
   "cell_type": "markdown",
   "metadata": {},
   "source": [
    "## Training the model"
   ]
  },
  {
   "cell_type": "code",
   "execution_count": 8,
   "metadata": {},
   "outputs": [
    {
     "name": "stdout",
     "output_type": "stream",
     "text": [
      "Validation Accuracy: 0.9683426443202979\n",
      "\n",
      "Classification Report:\n",
      "              precision    recall  f1-score   support\n",
      "\n",
      "         Ham       0.96      0.99      0.98       695\n",
      "        Spam       0.98      0.93      0.95       379\n",
      "\n",
      "    accuracy                           0.97      1074\n",
      "   macro avg       0.97      0.96      0.96      1074\n",
      "weighted avg       0.97      0.97      0.97      1074\n",
      "\n"
     ]
    }
   ],
   "source": [
    "# Multinomial Naive Bayes\n",
    "nb_model = MultinomialNB(alpha=1.0)  # Laplace smoothing\n",
    "nb_model.fit(X_train_vec, y_train)\n",
    "\n",
    "# predict the validation set\n",
    "y_val_pred = nb_model.predict(X_val_vec)\n",
    "y_val_proba = nb_model.predict_proba(X_val_vec)\n",
    "\n",
    "print(\"Validation Accuracy:\", accuracy_score(y_val, y_val_pred))\n",
    "print(\"\\nClassification Report:\")\n",
    "print(classification_report(y_val, y_val_pred, target_names=['Ham', 'Spam']))"
   ]
  },
  {
   "cell_type": "markdown",
   "metadata": {},
   "source": [
    "## Uncertainty Quantification"
   ]
  },
  {
   "cell_type": "code",
   "execution_count": 9,
   "metadata": {},
   "outputs": [
    {
     "name": "stdout",
     "output_type": "stream",
     "text": [
      "Entropy statistics:\n",
      "count    1.074000e+03\n",
      "mean     1.360530e-02\n",
      "std      8.152811e-02\n",
      "min      3.553798e-14\n",
      "25%      3.553798e-14\n",
      "50%      3.553798e-14\n",
      "75%      7.095503e-13\n",
      "max      6.920352e-01\n",
      "Name: entropy, dtype: float64\n",
      "\n",
      "High-entropy predictions: 269\n",
      "Accuracy on high-entropy samples: 0.900\n",
      "Accuracy on low-entropy samples: 0.991\n"
     ]
    }
   ],
   "source": [
    "import numpy as np\n",
    "import pandas as pd\n",
    "\n",
    "def calculate_entropy(probabilities):\n",
    "    \"\"\"Calculate predictive entropy for uncertainty quantification\"\"\"\n",
    "    # Avoid log(0) by adding small epsilon\n",
    "    epsilon = 1e-15\n",
    "    probabilities = np.clip(probabilities, epsilon, 1 - epsilon)\n",
    "    \n",
    "    # Calculate entropy: H = -sum(p * log(p))\n",
    "    entropy = -np.sum(probabilities * np.log(probabilities), axis=1)\n",
    "    return entropy\n",
    "\n",
    "val_entropy = calculate_entropy(y_val_proba)\n",
    "\n",
    "val_results = pd.DataFrame({\n",
    "    'true_label': y_val.values,\n",
    "    'predicted_label': y_val_pred,\n",
    "    'spam_probability': y_val_proba[:, 1],\n",
    "    'entropy': val_entropy\n",
    "})\n",
    "\n",
    "print(\"Entropy statistics:\")\n",
    "print(val_results['entropy'].describe())\n",
    "\n",
    "entropy_threshold = np.percentile(val_entropy, 75)  # Top 25% entropy\n",
    "high_entropy_mask = val_entropy > entropy_threshold\n",
    "\n",
    "print(f\"\\nHigh-entropy predictions: {np.sum(high_entropy_mask)}\")\n",
    "print(f\"Accuracy on high-entropy samples: {accuracy_score(y_val[high_entropy_mask], y_val_pred[high_entropy_mask]):.3f}\")\n",
    "print(f\"Accuracy on low-entropy samples: {accuracy_score(y_val[~high_entropy_mask], y_val_pred[~high_entropy_mask]):.3f}\")\n"
   ]
  },
  {
   "cell_type": "markdown",
   "metadata": {},
   "source": [
    "## Diagrams about the training and entropy"
   ]
  },
  {
   "cell_type": "code",
   "execution_count": 10,
   "metadata": {},
   "outputs": [
    {
     "data": {
      "image/png": "[encoded data removed]",
      "text/plain": [
       "<Figure size 1500x1000 with 8 Axes>"
      ]
     },
     "metadata": {},
     "output_type": "display_data"
    }
   ],
   "source": [
    "import matplotlib.pyplot as plt\n",
    "import seaborn as sns\n",
    "\n",
    "plt.figure(figsize=(15, 10))\n",
    "\n",
    "# plot 1: entropy distribution\n",
    "plt.subplot(2, 3, 1)\n",
    "plt.hist(val_entropy, bins=50, alpha=0.7, color='skyblue', edgecolor='black')\n",
    "plt.axvline(entropy_threshold, color='red', linestyle='--', label=f'Threshold ({entropy_threshold:.3f})')\n",
    "plt.xlabel('Predictive Entropy')\n",
    "plt.ylabel('Frequency')\n",
    "plt.title('Distribution of Predictive Entropy')\n",
    "plt.legend()\n",
    "\n",
    "# p2: entropy and probability\n",
    "plt.subplot(2, 3, 2)\n",
    "scatter = plt.scatter(y_val_proba[:, 1], val_entropy, alpha=0.6, c=y_val, cmap='RdYlBu')\n",
    "plt.xlabel('Spam Probability')\n",
    "plt.ylabel('Predictive Entropy')\n",
    "plt.title('Entropy vs Spam Probability')\n",
    "plt.colorbar(scatter, label='True Label (0=Ham, 1=Spam)')\n",
    "\n",
    "# p3: confusion matrix\n",
    "plt.subplot(2, 3, 3)\n",
    "cm = confusion_matrix(y_val, y_val_pred)\n",
    "sns.heatmap(cm, annot=True, fmt='d', cmap='Blues', \n",
    "            xticklabels=['Ham', 'Spam'], yticklabels=['Ham', 'Spam'])\n",
    "plt.title('Confusion Matrix')\n",
    "plt.ylabel('True Label')\n",
    "plt.xlabel('Predicted Label')\n",
    "\n",
    "# p4: probability distribution by class\n",
    "plt.subplot(2, 3, 4)\n",
    "ham_probs = y_val_proba[y_val == 0, 1]  # Spam probability for ham emails\n",
    "spam_probs = y_val_proba[y_val == 1, 1]  # Spam probability for spam emails\n",
    "\n",
    "plt.hist(ham_probs, bins=30, alpha=0.7, label='Ham emails', color='blue')\n",
    "plt.hist(spam_probs, bins=30, alpha=0.7, label='Spam emails', color='red')\n",
    "plt.xlabel('Spam Probability')\n",
    "plt.ylabel('Frequency')\n",
    "plt.title('Probability Distribution by True Class')\n",
    "plt.legend()\n",
    "\n",
    "# p5: entropy by true class\n",
    "plt.subplot(2, 3, 5)\n",
    "ham_entropy = val_entropy[y_val == 0]\n",
    "spam_entropy = val_entropy[y_val == 1]\n",
    "\n",
    "plt.hist(ham_entropy, bins=30, alpha=0.7, label='Ham emails', color='blue')\n",
    "plt.hist(spam_entropy, bins=30, alpha=0.7, label='Spam emails', color='red')\n",
    "plt.xlabel('Entropy')\n",
    "plt.ylabel('Frequency')\n",
    "plt.title('Entropy Distribution by True Class')\n",
    "plt.legend()\n",
    "\n",
    "# p6: accuracy vs entropy threshold\n",
    "plt.subplot(2, 3, 6)\n",
    "thresholds = np.percentile(val_entropy, np.arange(10, 100, 10))\n",
    "accuracies_high = []\n",
    "accuracies_low = []\n",
    "\n",
    "for thresh in thresholds:\n",
    "    high_mask = val_entropy > thresh\n",
    "    low_mask = val_entropy <= thresh\n",
    "    \n",
    "    if np.sum(high_mask) > 0:\n",
    "        acc_high = accuracy_score(y_val[high_mask], y_val_pred[high_mask])\n",
    "    else:\n",
    "        acc_high = 0\n",
    "    \n",
    "    if np.sum(low_mask) > 0:\n",
    "        acc_low = accuracy_score(y_val[low_mask], y_val_pred[low_mask])\n",
    "    else:\n",
    "        acc_low = 0\n",
    "    \n",
    "    accuracies_high.append(acc_high)\n",
    "    accuracies_low.append(acc_low)\n",
    "\n",
    "plt.plot(thresholds, accuracies_high, 'ro-', label='High entropy')\n",
    "plt.plot(thresholds, accuracies_low, 'bo-', label='Low entropy')\n",
    "plt.xlabel('Entropy Threshold')\n",
    "plt.ylabel('Accuracy')\n",
    "plt.title('Accuracy vs Entropy Threshold')\n",
    "plt.legend()\n",
    "\n",
    "plt.tight_layout()\n",
    "plt.show()\n"
   ]
  },
  {
   "cell_type": "markdown",
   "metadata": {},
   "source": [
    "## Confidence Analysis"
   ]
  },
  {
   "cell_type": "code",
   "execution_count": 11,
   "metadata": {},
   "outputs": [
    {
     "name": "stdout",
     "output_type": "stream",
     "text": [
      "Test Set Results:\n",
      "Accuracy: 0.968\n",
      "\n",
      "Classification Report:\n",
      "              precision    recall  f1-score   support\n",
      "\n",
      "         Ham       0.96      0.99      0.98       695\n",
      "        Spam       0.98      0.93      0.95       380\n",
      "\n",
      "    accuracy                           0.97      1075\n",
      "   macro avg       0.97      0.96      0.96      1075\n",
      "weighted avg       0.97      0.97      0.97      1075\n",
      "\n",
      "\n",
      "Uncertainty Analysis:\n",
      "High-entropy predictions: 248 (23.1%)\n",
      "\n",
      "Performance by Confidence Level:\n",
      "  confidence_range  count  accuracy  avg_entropy\n",
      "0        0.50-0.70     12  0.333333     0.657599\n",
      "1        0.70-0.80      7  0.571429     0.538821\n",
      "2        0.80-0.90      3  0.666667     0.399684\n",
      "3        0.90-0.95      5  0.600000     0.248531\n",
      "4        0.95-1.00    226  0.929204     0.006745\n"
     ]
    }
   ],
   "source": [
    "y_test_pred = nb_model.predict(X_test_vec)\n",
    "y_test_proba = nb_model.predict_proba(X_test_vec)\n",
    "test_entropy = calculate_entropy(y_test_proba)\n",
    "\n",
    "print(\"Test Set Results:\")\n",
    "print(f\"Accuracy: {accuracy_score(y_test, y_test_pred):.3f}\")\n",
    "print(\"\\nClassification Report:\")\n",
    "print(classification_report(y_test, y_test_pred, target_names=['Ham', 'Spam']))\n",
    "\n",
    "# uncertainty analysis on test set\n",
    "test_high_entropy_mask = test_entropy > entropy_threshold\n",
    "print(f\"\\nUncertainty Analysis:\")\n",
    "print(f\"High-entropy predictions: {np.sum(test_high_entropy_mask)} ({np.mean(test_high_entropy_mask)*100:.1f}%)\")\n",
    "\n",
    "# the analysis of the model performance across different confidence levels\n",
    "def analyze_predictions_by_confidence(y_true, y_pred, probabilities, entropy_scores):\n",
    "    \"\"\"Analyze model performance across different confidence levels\"\"\"\n",
    "    confidence_bins = np.array([0.5, 0.7, 0.8, 0.9, 0.95, 1.0])\n",
    "    max_probs = np.max(probabilities, axis=1)\n",
    "    \n",
    "    results = []\n",
    "    for i in range(len(confidence_bins)-1):\n",
    "        mask = (max_probs >= confidence_bins[i]) & (max_probs < confidence_bins[i+1])\n",
    "        if np.sum(mask) > 0:\n",
    "            acc = accuracy_score(y_true[mask], y_pred[mask])\n",
    "            avg_entropy = np.mean(entropy_scores[mask])\n",
    "            count = np.sum(mask)\n",
    "            results.append({\n",
    "                'confidence_range': f'{confidence_bins[i]:.2f}-{confidence_bins[i+1]:.2f}',\n",
    "                'count': count,\n",
    "                'accuracy': acc,\n",
    "                'avg_entropy': avg_entropy\n",
    "            })\n",
    "    \n",
    "    return pd.DataFrame(results)\n",
    "\n",
    "confidence_analysis = analyze_predictions_by_confidence(\n",
    "    y_test.values, y_test_pred, y_test_proba, test_entropy\n",
    ")\n",
    "print(\"\\nPerformance by Confidence Level:\")\n",
    "print(confidence_analysis)"
   ]
  },
  {
   "cell_type": "markdown",
   "metadata": {},
   "source": [
    "## Prediction Function\n",
    "One example using our spam detector"
   ]
  },
  {
   "cell_type": "code",
   "execution_count": 13,
   "metadata": {},
   "outputs": [
    {
     "name": "stdout",
     "output_type": "stream",
     "text": [
      "Sample predictions:\n",
      "\n",
      "Email 1: Congratulations! You've won $1,000,000! Click here now to claim your prize!\n",
      "  prediction: Spam\n",
      "  spam_probability: 0.9992\n",
      "  ham_probability: 0.0008\n",
      "  entropy: 0.0064\n",
      "  is_ambiguous: True\n",
      "  confidence: Low\n",
      "\n",
      "Email 2: Hi John, can we schedule a meeting for tomorrow at 2pm? Thanks, Sarah\n",
      "  prediction: Ham\n",
      "  spam_probability: 0.0158\n",
      "  ham_probability: 0.9842\n",
      "  entropy: 0.0814\n",
      "  is_ambiguous: True\n",
      "  confidence: Low\n",
      "\n",
      "Email 3: URGENT: Your account will be suspended unless you verify your information immediately!\n",
      "  prediction: Spam\n",
      "  spam_probability: 0.9923\n",
      "  ham_probability: 0.0077\n",
      "  entropy: 0.0454\n",
      "  is_ambiguous: True\n",
      "  confidence: Low\n"
     ]
    }
   ],
   "source": [
    "def predict_spam_with_uncertainty(text, model, vectorizer, entropy_threshold):\n",
    "    \"\"\"\n",
    "    Predict spam probability with uncertainty quantification\n",
    "    \"\"\"\n",
    "    # preprocess text\n",
    "    processed_text = preprocess_email(text)\n",
    "    text_vec = vectorizer.transform([processed_text])\n",
    "    probabilities = model.predict_proba(text_vec)[0]\n",
    "    prediction = model.predict(text_vec)[0]\n",
    "    entropy = calculate_entropy(probabilities.reshape(1, -1))[0]\n",
    "    \n",
    "    is_ambiguous = entropy > entropy_threshold\n",
    "    \n",
    "    return {\n",
    "        'prediction': 'Spam' if prediction == 1 else 'Ham',\n",
    "        'spam_probability': probabilities[1],\n",
    "        'ham_probability': probabilities[0],\n",
    "        'entropy': entropy,\n",
    "        'is_ambiguous': is_ambiguous,\n",
    "        'confidence': 'Low' if is_ambiguous else 'High'\n",
    "    }\n",
    "\n",
    "# we test the function with some sample emails\n",
    "sample_emails = [\n",
    "    \"Congratulations! You've won $1,000,000! Click here now to claim your prize!\",\n",
    "    \"Hi John, can we schedule a meeting for tomorrow at 2pm? Thanks, Sarah\",\n",
    "    \"URGENT: Your account will be suspended unless you verify your information immediately!\"\n",
    "]\n",
    "\n",
    "print(\"Sample predictions:\")\n",
    "for i, email in enumerate(sample_emails, 1):\n",
    "    result = predict_spam_with_uncertainty(email, nb_model, vectorizer, entropy_threshold)\n",
    "    print(f\"\\nEmail {i}: {email[:]}\")\n",
    "    for key, value in result.items():\n",
    "        if isinstance(value, float):\n",
    "            print(f\"  {key}: {value:.4f}\")\n",
    "        else:\n",
    "            print(f\"  {key}: {value}\")\n"
   ]
  },
  {
   "cell_type": "code",
   "execution_count": null,
   "metadata": {},
   "outputs": [],
   "source": []
  }
 ],
 "metadata": {
  "kernelspec": {
   "display_name": "Python 3 (ipykernel)",
   "language": "python",
   "name": "python3"
  },
  "language_info": {
   "codemirror_mode": {
    "name": "ipython",
    "version": 3
   },
   "file_extension": ".py",
   "mimetype": "text/x-python",
   "name": "python",
   "nbconvert_exporter": "python",
   "pygments_lexer": "ipython3",
   "version": "3.11.0"
  }
 },
 "nbformat": 4,
 "nbformat_minor": 4
}
